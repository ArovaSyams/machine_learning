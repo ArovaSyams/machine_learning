{
  "nbformat": 4,
  "nbformat_minor": 0,
  "metadata": {
    "colab": {
      "provenance": [],
      "authorship_tag": "ABX9TyMw25L9C+9iQ4i+oQX4LmNw",
      "include_colab_link": true
    },
    "kernelspec": {
      "name": "python3",
      "display_name": "Python 3"
    },
    "language_info": {
      "name": "python"
    }
  },
  "cells": [
    {
      "cell_type": "markdown",
      "metadata": {
        "id": "view-in-github",
        "colab_type": "text"
      },
      "source": [
        "<a href=\"https://colab.research.google.com/github/ArovaSyams/machine_learning/blob/main/sklearn_pca.ipynb\" target=\"_parent\"><img src=\"https://colab.research.google.com/assets/colab-badge.svg\" alt=\"Open In Colab\"/></a>"
      ]
    },
    {
      "cell_type": "markdown",
      "source": [
        "# Implement Principal Component Analysis (PCA) with SKLearn"
      ],
      "metadata": {
        "id": "GUWQH9A0AwQq"
      }
    },
    {
      "cell_type": "code",
      "execution_count": 16,
      "metadata": {
        "id": "gc0e2c5BAjSW"
      },
      "outputs": [],
      "source": [
        "from sklearn import datasets\n",
        "from sklearn.model_selection import train_test_split\n",
        "from sklearn import tree\n",
        "from sklearn.decomposition import PCA"
      ]
    },
    {
      "cell_type": "code",
      "source": [
        "iris = datasets.load_iris()\n",
        "# divide atribute and label\n",
        "atribut = iris.data\n",
        "label = iris.target\n",
        "\n",
        "# divide dataset to train and test set\n",
        "X_train, X_test, y_train, y_test = train_test_split(atribut, label, test_size=0.2, random_state=1)"
      ],
      "metadata": {
        "id": "Py16B34SBJmx"
      },
      "execution_count": 14,
      "outputs": []
    },
    {
      "cell_type": "code",
      "source": [
        "# use decision tree model and count how accurate this model to the data WITHOUT PCA\n",
        "decision_tree = tree.DecisionTreeClassifier()\n",
        "\n",
        "first_model = decision_tree.fit(X_train, y_train)\n",
        "first_model.score(X_test, y_test)\n"
      ],
      "metadata": {
        "colab": {
          "base_uri": "https://localhost:8080/"
        },
        "id": "hGEg7FwsBTut",
        "outputId": "200fd4f4-bf25-4692-8bce-6e82ff34929e"
      },
      "execution_count": 12,
      "outputs": [
        {
          "output_type": "execute_result",
          "data": {
            "text/plain": [
              "0.9666666666666667"
            ]
          },
          "metadata": {},
          "execution_count": 12
        }
      ]
    },
    {
      "cell_type": "code",
      "source": [
        "# make PCA object with 4 principal component\n",
        "pca = PCA(n_components=4)\n",
        "\n",
        "# aplicate PCA to dataset\n",
        "pca_attributes = pca.fit_transform(X_train)\n",
        "\n",
        "# look the variance each attributes\n",
        "pca.explained_variance_ratio_"
      ],
      "metadata": {
        "colab": {
          "base_uri": "https://localhost:8080/"
        },
        "id": "grIy2R_iCcmf",
        "outputId": "bef157e2-0992-4604-f658-b228a601476e"
      },
      "execution_count": 18,
      "outputs": [
        {
          "output_type": "execute_result",
          "data": {
            "text/plain": [
              "array([0.92848323, 0.04764372, 0.01931005, 0.004563  ])"
            ]
          },
          "metadata": {},
          "execution_count": 18
        }
      ]
    },
    {
      "cell_type": "code",
      "source": [
        "# pick the 2 best principal components with the highest ratio\n",
        "pca = PCA(n_components=2)\n",
        "X_train_pca = pca.fit_transform(X_train)\n",
        "X_test_pca = pca.fit_transform(X_test)\n"
      ],
      "metadata": {
        "id": "d0V3TwsEGOL_"
      },
      "execution_count": 19,
      "outputs": []
    },
    {
      "cell_type": "code",
      "source": [
        "# test the classifier accuration\n",
        "second_model = decision_tree.fit(X_train_pca, y_train)\n",
        "second_model.score(X_test_pca, y_test)"
      ],
      "metadata": {
        "colab": {
          "base_uri": "https://localhost:8080/"
        },
        "id": "hg32wf1GHeU9",
        "outputId": "7b966a18-87c4-4775-f170-c3eeffb11669"
      },
      "execution_count": 21,
      "outputs": [
        {
          "output_type": "execute_result",
          "data": {
            "text/plain": [
              "0.9333333333333333"
            ]
          },
          "metadata": {},
          "execution_count": 21
        }
      ]
    },
    {
      "cell_type": "markdown",
      "source": [
        "Dari percobaan di atas bisa kita lihat bahwa dengan hanya 2 principal component atau 2 atribut saja model masih memiliki akurasi yang tinggi. Dengan principal component kamu bisa mengurangi atribut yang kurang signifikan dalam prediksi dan mempercepat waktu pelatihan sebuah model machine learning."
      ],
      "metadata": {
        "id": "6P1jmDPEIDVE"
      }
    }
  ]
}